{
  "nbformat": 4,
  "nbformat_minor": 0,
  "metadata": {
    "colab": {
      "name": "T1Estat.ipynb",
      "provenance": [],
      "authorship_tag": "ABX9TyOOHfrkhJswx9s14M5Lus23",
      "include_colab_link": true
    },
    "kernelspec": {
      "name": "python3",
      "display_name": "Python 3"
    }
  },
  "cells": [
    {
      "cell_type": "markdown",
      "metadata": {
        "id": "view-in-github",
        "colab_type": "text"
      },
      "source": [
        "<a href=\"https://colab.research.google.com/github/pedroavellar/Estatistica-DataAnalysis/blob/master/T1Estat.ipynb\" target=\"_parent\"><img src=\"https://colab.research.google.com/assets/colab-badge.svg\" alt=\"Open In Colab\"/></a>"
      ]
    },
    {
      "cell_type": "markdown",
      "metadata": {
        "id": "3HuYY-V-LZO7",
        "colab_type": "text"
      },
      "source": [
        "### **Olá**! Este notebook faz parte de um trabalho de estatística de análise de dados. A explicação mais detalhada sobre o trabalho e o conjunto de dados pode ser encontrada no relatório deste em https://github.com/pedroavellar/Estatistica-DataAnalysis.\n",
        "\n",
        "O conjunto de dados foi fornecido, completado com valores arbitrários, removido o título, transformado em csv e colocado no github para ser usado aqui.\n",
        "\n",
        "Primeiro, vamos importar a biblioteca pandas, para manipulação e análise de dados.\n",
        "\n",
        "Em seguida, lemos o arquivo com os dados e guardamos na variável 'data'. Esta variável tem um formato do pandas chamado 'Dataframe', que organiza os dados em uma tabela bem organizada como mostrado depois da leitura."
      ]
    },
    {
      "cell_type": "code",
      "metadata": {
        "id": "vYRyeXdrIA8m",
        "colab_type": "code",
        "outputId": "d6021232-473a-49cc-8363-22a9d2c3e57c",
        "colab": {
          "base_uri": "https://localhost:8080/",
          "height": 1000
        }
      },
      "source": [
        "import pandas as pd\n",
        "\n",
        "uri = 'https://raw.githubusercontent.com/pedroavellar/Estatistica-DataAnalysis/master/Conjunto%20de%20dados_completo.csv'\n",
        "data = pd.read_csv(uri)\n",
        "data"
      ],
      "execution_count": 151,
      "outputs": [
        {
          "output_type": "execute_result",
          "data": {
            "text/html": [
              "<div>\n",
              "<style scoped>\n",
              "    .dataframe tbody tr th:only-of-type {\n",
              "        vertical-align: middle;\n",
              "    }\n",
              "\n",
              "    .dataframe tbody tr th {\n",
              "        vertical-align: top;\n",
              "    }\n",
              "\n",
              "    .dataframe thead th {\n",
              "        text-align: right;\n",
              "    }\n",
              "</style>\n",
              "<table border=\"1\" class=\"dataframe\">\n",
              "  <thead>\n",
              "    <tr style=\"text-align: right;\">\n",
              "      <th></th>\n",
              "      <th>Identificação do Funcionário</th>\n",
              "      <th>Idade</th>\n",
              "      <th>Salário (em salários mínimos)</th>\n",
              "      <th>Número de filhos</th>\n",
              "      <th>Altura</th>\n",
              "      <th>Gênero</th>\n",
              "      <th>Escolaridade</th>\n",
              "      <th>Horas trabalhadas na última semana</th>\n",
              "      <th>Região de Procedência</th>\n",
              "      <th>Peso</th>\n",
              "    </tr>\n",
              "  </thead>\n",
              "  <tbody>\n",
              "    <tr>\n",
              "      <th>0</th>\n",
              "      <td>1</td>\n",
              "      <td>36</td>\n",
              "      <td>4,9</td>\n",
              "      <td>1</td>\n",
              "      <td>1,73</td>\n",
              "      <td>Masculino</td>\n",
              "      <td>superior</td>\n",
              "      <td>43</td>\n",
              "      <td>São Paulo</td>\n",
              "      <td>69,4</td>\n",
              "    </tr>\n",
              "    <tr>\n",
              "      <th>1</th>\n",
              "      <td>2</td>\n",
              "      <td>27</td>\n",
              "      <td>6,4</td>\n",
              "      <td>1</td>\n",
              "      <td>1,73</td>\n",
              "      <td>Masculino</td>\n",
              "      <td>fundamental</td>\n",
              "      <td>41</td>\n",
              "      <td>São Paulo</td>\n",
              "      <td>90,9</td>\n",
              "    </tr>\n",
              "    <tr>\n",
              "      <th>2</th>\n",
              "      <td>3</td>\n",
              "      <td>26</td>\n",
              "      <td>6,1</td>\n",
              "      <td>2</td>\n",
              "      <td>1,73</td>\n",
              "      <td>Masculino</td>\n",
              "      <td>médio</td>\n",
              "      <td>44</td>\n",
              "      <td>Interior</td>\n",
              "      <td>78,3</td>\n",
              "    </tr>\n",
              "    <tr>\n",
              "      <th>3</th>\n",
              "      <td>4</td>\n",
              "      <td>37</td>\n",
              "      <td>4,8</td>\n",
              "      <td>1</td>\n",
              "      <td>1,65</td>\n",
              "      <td>Feminino</td>\n",
              "      <td>superior</td>\n",
              "      <td>40</td>\n",
              "      <td>Interior</td>\n",
              "      <td>66,7</td>\n",
              "    </tr>\n",
              "    <tr>\n",
              "      <th>4</th>\n",
              "      <td>5</td>\n",
              "      <td>35</td>\n",
              "      <td>8,2</td>\n",
              "      <td>2</td>\n",
              "      <td>1,52</td>\n",
              "      <td>Feminino</td>\n",
              "      <td>médio</td>\n",
              "      <td>39</td>\n",
              "      <td>São Paulo</td>\n",
              "      <td>65,8</td>\n",
              "    </tr>\n",
              "    <tr>\n",
              "      <th>5</th>\n",
              "      <td>6</td>\n",
              "      <td>32</td>\n",
              "      <td>5,5</td>\n",
              "      <td>5</td>\n",
              "      <td>1,75</td>\n",
              "      <td>Masculino</td>\n",
              "      <td>superior</td>\n",
              "      <td>42</td>\n",
              "      <td>Interior</td>\n",
              "      <td>75,7</td>\n",
              "    </tr>\n",
              "    <tr>\n",
              "      <th>6</th>\n",
              "      <td>7</td>\n",
              "      <td>31</td>\n",
              "      <td>3,6</td>\n",
              "      <td>1</td>\n",
              "      <td>1,71</td>\n",
              "      <td>Masculino</td>\n",
              "      <td>médio</td>\n",
              "      <td>42</td>\n",
              "      <td>São Paulo</td>\n",
              "      <td>69,3</td>\n",
              "    </tr>\n",
              "    <tr>\n",
              "      <th>7</th>\n",
              "      <td>8</td>\n",
              "      <td>40</td>\n",
              "      <td>6,6</td>\n",
              "      <td>1</td>\n",
              "      <td>1,78</td>\n",
              "      <td>Masculino</td>\n",
              "      <td>superior</td>\n",
              "      <td>40</td>\n",
              "      <td>São Paulo</td>\n",
              "      <td>83,6</td>\n",
              "    </tr>\n",
              "    <tr>\n",
              "      <th>8</th>\n",
              "      <td>9</td>\n",
              "      <td>29</td>\n",
              "      <td>6,5</td>\n",
              "      <td>1</td>\n",
              "      <td>1,77</td>\n",
              "      <td>Masculino</td>\n",
              "      <td>médio</td>\n",
              "      <td>42</td>\n",
              "      <td>Interior</td>\n",
              "      <td>53,7</td>\n",
              "    </tr>\n",
              "    <tr>\n",
              "      <th>9</th>\n",
              "      <td>10</td>\n",
              "      <td>32</td>\n",
              "      <td>7,1</td>\n",
              "      <td>0</td>\n",
              "      <td>1,67</td>\n",
              "      <td>Feminino</td>\n",
              "      <td>superior</td>\n",
              "      <td>42</td>\n",
              "      <td>São Paulo</td>\n",
              "      <td>62,3</td>\n",
              "    </tr>\n",
              "    <tr>\n",
              "      <th>10</th>\n",
              "      <td>11</td>\n",
              "      <td>36</td>\n",
              "      <td>5,5</td>\n",
              "      <td>0</td>\n",
              "      <td>1,75</td>\n",
              "      <td>Masculino</td>\n",
              "      <td>médio</td>\n",
              "      <td>42</td>\n",
              "      <td>São Paulo</td>\n",
              "      <td>68,7</td>\n",
              "    </tr>\n",
              "    <tr>\n",
              "      <th>11</th>\n",
              "      <td>12</td>\n",
              "      <td>31</td>\n",
              "      <td>7,8</td>\n",
              "      <td>0</td>\n",
              "      <td>1,62</td>\n",
              "      <td>Feminino</td>\n",
              "      <td>médio</td>\n",
              "      <td>45</td>\n",
              "      <td>São Paulo</td>\n",
              "      <td>73,7</td>\n",
              "    </tr>\n",
              "    <tr>\n",
              "      <th>12</th>\n",
              "      <td>13</td>\n",
              "      <td>32</td>\n",
              "      <td>4,3</td>\n",
              "      <td>1</td>\n",
              "      <td>1,83</td>\n",
              "      <td>Feminino</td>\n",
              "      <td>superior</td>\n",
              "      <td>47</td>\n",
              "      <td>Interior</td>\n",
              "      <td>73,7</td>\n",
              "    </tr>\n",
              "    <tr>\n",
              "      <th>13</th>\n",
              "      <td>14</td>\n",
              "      <td>37</td>\n",
              "      <td>3,7</td>\n",
              "      <td>0</td>\n",
              "      <td>1,77</td>\n",
              "      <td>Masculino</td>\n",
              "      <td>médio</td>\n",
              "      <td>39</td>\n",
              "      <td>Litoral</td>\n",
              "      <td>67,3</td>\n",
              "    </tr>\n",
              "    <tr>\n",
              "      <th>14</th>\n",
              "      <td>15</td>\n",
              "      <td>40</td>\n",
              "      <td>1,6</td>\n",
              "      <td>2</td>\n",
              "      <td>1,61</td>\n",
              "      <td>Masculino</td>\n",
              "      <td>superior</td>\n",
              "      <td>44</td>\n",
              "      <td>São Paulo</td>\n",
              "      <td>71,9</td>\n",
              "    </tr>\n",
              "    <tr>\n",
              "      <th>15</th>\n",
              "      <td>16</td>\n",
              "      <td>29</td>\n",
              "      <td>8,5</td>\n",
              "      <td>1</td>\n",
              "      <td>1,67</td>\n",
              "      <td>Feminino</td>\n",
              "      <td>superior</td>\n",
              "      <td>42</td>\n",
              "      <td>São Paulo</td>\n",
              "      <td>81,7</td>\n",
              "    </tr>\n",
              "    <tr>\n",
              "      <th>16</th>\n",
              "      <td>17</td>\n",
              "      <td>43</td>\n",
              "      <td>6,3</td>\n",
              "      <td>0</td>\n",
              "      <td>1,73</td>\n",
              "      <td>Masculino</td>\n",
              "      <td>médio</td>\n",
              "      <td>39</td>\n",
              "      <td>Litoral</td>\n",
              "      <td>106,5</td>\n",
              "    </tr>\n",
              "    <tr>\n",
              "      <th>17</th>\n",
              "      <td>18</td>\n",
              "      <td>35</td>\n",
              "      <td>2,5</td>\n",
              "      <td>2</td>\n",
              "      <td>1,69</td>\n",
              "      <td>Feminino</td>\n",
              "      <td>fundamental</td>\n",
              "      <td>40</td>\n",
              "      <td>São Paulo</td>\n",
              "      <td>70,1</td>\n",
              "    </tr>\n",
              "    <tr>\n",
              "      <th>18</th>\n",
              "      <td>19</td>\n",
              "      <td>39</td>\n",
              "      <td>8,2</td>\n",
              "      <td>2</td>\n",
              "      <td>1,62</td>\n",
              "      <td>Feminino</td>\n",
              "      <td>superior</td>\n",
              "      <td>42</td>\n",
              "      <td>Interior</td>\n",
              "      <td>60,1</td>\n",
              "    </tr>\n",
              "    <tr>\n",
              "      <th>19</th>\n",
              "      <td>20</td>\n",
              "      <td>41</td>\n",
              "      <td>6,9</td>\n",
              "      <td>0</td>\n",
              "      <td>1,71</td>\n",
              "      <td>Masculino</td>\n",
              "      <td>médio</td>\n",
              "      <td>39</td>\n",
              "      <td>São Paulo</td>\n",
              "      <td>62,6</td>\n",
              "    </tr>\n",
              "    <tr>\n",
              "      <th>20</th>\n",
              "      <td>21</td>\n",
              "      <td>32</td>\n",
              "      <td>4,8</td>\n",
              "      <td>1</td>\n",
              "      <td>1,71</td>\n",
              "      <td>Feminino</td>\n",
              "      <td>médio</td>\n",
              "      <td>42</td>\n",
              "      <td>São Paulo</td>\n",
              "      <td>65,3</td>\n",
              "    </tr>\n",
              "    <tr>\n",
              "      <th>21</th>\n",
              "      <td>22</td>\n",
              "      <td>29</td>\n",
              "      <td>6,2</td>\n",
              "      <td>2</td>\n",
              "      <td>1,74</td>\n",
              "      <td>Masculino</td>\n",
              "      <td>médio</td>\n",
              "      <td>45</td>\n",
              "      <td>São Paulo</td>\n",
              "      <td>82,2</td>\n",
              "    </tr>\n",
              "    <tr>\n",
              "      <th>22</th>\n",
              "      <td>23</td>\n",
              "      <td>24</td>\n",
              "      <td>7,8</td>\n",
              "      <td>3</td>\n",
              "      <td>1,79</td>\n",
              "      <td>Masculino</td>\n",
              "      <td>médio</td>\n",
              "      <td>44</td>\n",
              "      <td>São Paulo</td>\n",
              "      <td>73,2</td>\n",
              "    </tr>\n",
              "    <tr>\n",
              "      <th>23</th>\n",
              "      <td>24</td>\n",
              "      <td>38</td>\n",
              "      <td>7,4</td>\n",
              "      <td>3</td>\n",
              "      <td>1,67</td>\n",
              "      <td>Feminino</td>\n",
              "      <td>médio</td>\n",
              "      <td>41</td>\n",
              "      <td>Interior</td>\n",
              "      <td>72,2</td>\n",
              "    </tr>\n",
              "    <tr>\n",
              "      <th>24</th>\n",
              "      <td>25</td>\n",
              "      <td>31</td>\n",
              "      <td>8,2</td>\n",
              "      <td>1</td>\n",
              "      <td>1,60</td>\n",
              "      <td>Feminino</td>\n",
              "      <td>superior</td>\n",
              "      <td>44</td>\n",
              "      <td>São Paulo</td>\n",
              "      <td>67,5</td>\n",
              "    </tr>\n",
              "    <tr>\n",
              "      <th>25</th>\n",
              "      <td>26</td>\n",
              "      <td>36</td>\n",
              "      <td>6,8</td>\n",
              "      <td>1</td>\n",
              "      <td>1,96</td>\n",
              "      <td>Masculino</td>\n",
              "      <td>médio</td>\n",
              "      <td>45</td>\n",
              "      <td>São Paulo</td>\n",
              "      <td>68,3</td>\n",
              "    </tr>\n",
              "    <tr>\n",
              "      <th>26</th>\n",
              "      <td>27</td>\n",
              "      <td>36</td>\n",
              "      <td>3,3</td>\n",
              "      <td>3</td>\n",
              "      <td>1,63</td>\n",
              "      <td>Feminino</td>\n",
              "      <td>médio</td>\n",
              "      <td>42</td>\n",
              "      <td>São Paulo</td>\n",
              "      <td>42,6</td>\n",
              "    </tr>\n",
              "    <tr>\n",
              "      <th>27</th>\n",
              "      <td>28</td>\n",
              "      <td>25</td>\n",
              "      <td>4,1</td>\n",
              "      <td>2</td>\n",
              "      <td>1,75</td>\n",
              "      <td>Masculino</td>\n",
              "      <td>médio</td>\n",
              "      <td>40</td>\n",
              "      <td>São Paulo</td>\n",
              "      <td>74,9</td>\n",
              "    </tr>\n",
              "    <tr>\n",
              "      <th>28</th>\n",
              "      <td>29</td>\n",
              "      <td>38</td>\n",
              "      <td>5,9</td>\n",
              "      <td>1</td>\n",
              "      <td>1,69</td>\n",
              "      <td>Masculino</td>\n",
              "      <td>médio</td>\n",
              "      <td>40</td>\n",
              "      <td>São Paulo</td>\n",
              "      <td>70,3</td>\n",
              "    </tr>\n",
              "    <tr>\n",
              "      <th>29</th>\n",
              "      <td>30</td>\n",
              "      <td>33</td>\n",
              "      <td>3,8</td>\n",
              "      <td>2</td>\n",
              "      <td>1,70</td>\n",
              "      <td>Masculino</td>\n",
              "      <td>médio</td>\n",
              "      <td>43</td>\n",
              "      <td>São Paulo</td>\n",
              "      <td>82,2</td>\n",
              "    </tr>\n",
              "    <tr>\n",
              "      <th>30</th>\n",
              "      <td>31</td>\n",
              "      <td>33</td>\n",
              "      <td>1,9</td>\n",
              "      <td>1</td>\n",
              "      <td>1,82</td>\n",
              "      <td>Feminino</td>\n",
              "      <td>superior</td>\n",
              "      <td>44</td>\n",
              "      <td>Interior</td>\n",
              "      <td>63</td>\n",
              "    </tr>\n",
              "    <tr>\n",
              "      <th>31</th>\n",
              "      <td>32</td>\n",
              "      <td>36</td>\n",
              "      <td>2,8</td>\n",
              "      <td>1</td>\n",
              "      <td>1,69</td>\n",
              "      <td>Feminino</td>\n",
              "      <td>superior</td>\n",
              "      <td>46</td>\n",
              "      <td>Litoral</td>\n",
              "      <td>65,6</td>\n",
              "    </tr>\n",
              "    <tr>\n",
              "      <th>32</th>\n",
              "      <td>33</td>\n",
              "      <td>32</td>\n",
              "      <td>6,9</td>\n",
              "      <td>2</td>\n",
              "      <td>1,77</td>\n",
              "      <td>Masculino</td>\n",
              "      <td>médio</td>\n",
              "      <td>39</td>\n",
              "      <td>São Paulo</td>\n",
              "      <td>63,9</td>\n",
              "    </tr>\n",
              "    <tr>\n",
              "      <th>33</th>\n",
              "      <td>34</td>\n",
              "      <td>41</td>\n",
              "      <td>7,8</td>\n",
              "      <td>0</td>\n",
              "      <td>1,69</td>\n",
              "      <td>Feminino</td>\n",
              "      <td>médio</td>\n",
              "      <td>44</td>\n",
              "      <td>São Paulo</td>\n",
              "      <td>94,8</td>\n",
              "    </tr>\n",
              "    <tr>\n",
              "      <th>34</th>\n",
              "      <td>35</td>\n",
              "      <td>32</td>\n",
              "      <td>5,2</td>\n",
              "      <td>5</td>\n",
              "      <td>1,72</td>\n",
              "      <td>Masculino</td>\n",
              "      <td>superior</td>\n",
              "      <td>44</td>\n",
              "      <td>Interior</td>\n",
              "      <td>68</td>\n",
              "    </tr>\n",
              "    <tr>\n",
              "      <th>35</th>\n",
              "      <td>36</td>\n",
              "      <td>30</td>\n",
              "      <td>5,5</td>\n",
              "      <td>0</td>\n",
              "      <td>1,90</td>\n",
              "      <td>Masculino</td>\n",
              "      <td>superior</td>\n",
              "      <td>44</td>\n",
              "      <td>São Paulo</td>\n",
              "      <td>69,4</td>\n",
              "    </tr>\n",
              "    <tr>\n",
              "      <th>36</th>\n",
              "      <td>37</td>\n",
              "      <td>31</td>\n",
              "      <td>6,2</td>\n",
              "      <td>1</td>\n",
              "      <td>1,52</td>\n",
              "      <td>Feminino</td>\n",
              "      <td>médio</td>\n",
              "      <td>38</td>\n",
              "      <td>São Paulo</td>\n",
              "      <td>57,7</td>\n",
              "    </tr>\n",
              "    <tr>\n",
              "      <th>37</th>\n",
              "      <td>38</td>\n",
              "      <td>33</td>\n",
              "      <td>4,4</td>\n",
              "      <td>0</td>\n",
              "      <td>1,70</td>\n",
              "      <td>Masculino</td>\n",
              "      <td>superior</td>\n",
              "      <td>37</td>\n",
              "      <td>São Paulo</td>\n",
              "      <td>80,7</td>\n",
              "    </tr>\n",
              "    <tr>\n",
              "      <th>38</th>\n",
              "      <td>39</td>\n",
              "      <td>38</td>\n",
              "      <td>3,6</td>\n",
              "      <td>0</td>\n",
              "      <td>1,72</td>\n",
              "      <td>Masculino</td>\n",
              "      <td>superior</td>\n",
              "      <td>44</td>\n",
              "      <td>Litoral</td>\n",
              "      <td>75,6</td>\n",
              "    </tr>\n",
              "    <tr>\n",
              "      <th>39</th>\n",
              "      <td>40</td>\n",
              "      <td>31</td>\n",
              "      <td>2</td>\n",
              "      <td>1</td>\n",
              "      <td>1,73</td>\n",
              "      <td>Masculino</td>\n",
              "      <td>médio</td>\n",
              "      <td>43</td>\n",
              "      <td>Interior</td>\n",
              "      <td>53,8</td>\n",
              "    </tr>\n",
              "    <tr>\n",
              "      <th>40</th>\n",
              "      <td>41</td>\n",
              "      <td>38</td>\n",
              "      <td>5,3</td>\n",
              "      <td>3</td>\n",
              "      <td>1,62</td>\n",
              "      <td>Masculino</td>\n",
              "      <td>médio</td>\n",
              "      <td>45</td>\n",
              "      <td>Interior</td>\n",
              "      <td>79,5</td>\n",
              "    </tr>\n",
              "    <tr>\n",
              "      <th>41</th>\n",
              "      <td>42</td>\n",
              "      <td>30</td>\n",
              "      <td>6,2</td>\n",
              "      <td>0</td>\n",
              "      <td>1,86</td>\n",
              "      <td>Masculino</td>\n",
              "      <td>médio</td>\n",
              "      <td>39</td>\n",
              "      <td>São Paulo</td>\n",
              "      <td>80,1</td>\n",
              "    </tr>\n",
              "    <tr>\n",
              "      <th>42</th>\n",
              "      <td>43</td>\n",
              "      <td>38</td>\n",
              "      <td>2,5</td>\n",
              "      <td>2</td>\n",
              "      <td>1,55</td>\n",
              "      <td>Masculino</td>\n",
              "      <td>médio</td>\n",
              "      <td>43</td>\n",
              "      <td>São Paulo</td>\n",
              "      <td>79,8</td>\n",
              "    </tr>\n",
              "    <tr>\n",
              "      <th>43</th>\n",
              "      <td>44</td>\n",
              "      <td>33</td>\n",
              "      <td>7,1</td>\n",
              "      <td>2</td>\n",
              "      <td>1,59</td>\n",
              "      <td>Masculino</td>\n",
              "      <td>médio</td>\n",
              "      <td>46</td>\n",
              "      <td>São Paulo</td>\n",
              "      <td>49,2</td>\n",
              "    </tr>\n",
              "    <tr>\n",
              "      <th>44</th>\n",
              "      <td>45</td>\n",
              "      <td>37</td>\n",
              "      <td>4,4</td>\n",
              "      <td>2</td>\n",
              "      <td>1,77</td>\n",
              "      <td>Masculino</td>\n",
              "      <td>superior</td>\n",
              "      <td>40</td>\n",
              "      <td>Interior</td>\n",
              "      <td>69</td>\n",
              "    </tr>\n",
              "    <tr>\n",
              "      <th>45</th>\n",
              "      <td>46</td>\n",
              "      <td>40</td>\n",
              "      <td>6,3</td>\n",
              "      <td>2</td>\n",
              "      <td>1,76</td>\n",
              "      <td>Feminino</td>\n",
              "      <td>superior</td>\n",
              "      <td>42</td>\n",
              "      <td>Interior</td>\n",
              "      <td>79,4</td>\n",
              "    </tr>\n",
              "    <tr>\n",
              "      <th>46</th>\n",
              "      <td>47</td>\n",
              "      <td>38</td>\n",
              "      <td>5,3</td>\n",
              "      <td>2</td>\n",
              "      <td>1,66</td>\n",
              "      <td>Masculino</td>\n",
              "      <td>superior</td>\n",
              "      <td>45</td>\n",
              "      <td>São Paulo</td>\n",
              "      <td>73</td>\n",
              "    </tr>\n",
              "    <tr>\n",
              "      <th>47</th>\n",
              "      <td>48</td>\n",
              "      <td>38</td>\n",
              "      <td>3,2</td>\n",
              "      <td>1</td>\n",
              "      <td>1,70</td>\n",
              "      <td>Feminino</td>\n",
              "      <td>fundamental</td>\n",
              "      <td>43</td>\n",
              "      <td>Interior</td>\n",
              "      <td>67,7</td>\n",
              "    </tr>\n",
              "    <tr>\n",
              "      <th>48</th>\n",
              "      <td>49</td>\n",
              "      <td>32</td>\n",
              "      <td>5,5</td>\n",
              "      <td>1</td>\n",
              "      <td>1,70</td>\n",
              "      <td>Masculino</td>\n",
              "      <td>médio</td>\n",
              "      <td>51</td>\n",
              "      <td>São Paulo</td>\n",
              "      <td>62,7</td>\n",
              "    </tr>\n",
              "    <tr>\n",
              "      <th>49</th>\n",
              "      <td>50</td>\n",
              "      <td>28</td>\n",
              "      <td>3,3</td>\n",
              "      <td>2</td>\n",
              "      <td>1,80</td>\n",
              "      <td>Masculino</td>\n",
              "      <td>médio</td>\n",
              "      <td>40</td>\n",
              "      <td>São Paulo</td>\n",
              "      <td>81,2</td>\n",
              "    </tr>\n",
              "  </tbody>\n",
              "</table>\n",
              "</div>"
            ],
            "text/plain": [
              "    Identificação do Funcionário  Idade  ... Região de Procedência   Peso\n",
              "0                              1     36  ...             São Paulo   69,4\n",
              "1                              2     27  ...             São Paulo   90,9\n",
              "2                              3     26  ...              Interior   78,3\n",
              "3                              4     37  ...              Interior   66,7\n",
              "4                              5     35  ...             São Paulo   65,8\n",
              "5                              6     32  ...              Interior   75,7\n",
              "6                              7     31  ...             São Paulo   69,3\n",
              "7                              8     40  ...             São Paulo   83,6\n",
              "8                              9     29  ...              Interior   53,7\n",
              "9                             10     32  ...             São Paulo   62,3\n",
              "10                            11     36  ...             São Paulo   68,7\n",
              "11                            12     31  ...             São Paulo   73,7\n",
              "12                            13     32  ...              Interior   73,7\n",
              "13                            14     37  ...               Litoral   67,3\n",
              "14                            15     40  ...             São Paulo   71,9\n",
              "15                            16     29  ...             São Paulo   81,7\n",
              "16                            17     43  ...               Litoral  106,5\n",
              "17                            18     35  ...             São Paulo   70,1\n",
              "18                            19     39  ...              Interior   60,1\n",
              "19                            20     41  ...             São Paulo   62,6\n",
              "20                            21     32  ...             São Paulo   65,3\n",
              "21                            22     29  ...             São Paulo   82,2\n",
              "22                            23     24  ...             São Paulo   73,2\n",
              "23                            24     38  ...              Interior   72,2\n",
              "24                            25     31  ...             São Paulo   67,5\n",
              "25                            26     36  ...             São Paulo   68,3\n",
              "26                            27     36  ...             São Paulo   42,6\n",
              "27                            28     25  ...             São Paulo   74,9\n",
              "28                            29     38  ...             São Paulo   70,3\n",
              "29                            30     33  ...             São Paulo   82,2\n",
              "30                            31     33  ...              Interior     63\n",
              "31                            32     36  ...               Litoral   65,6\n",
              "32                            33     32  ...             São Paulo   63,9\n",
              "33                            34     41  ...             São Paulo   94,8\n",
              "34                            35     32  ...              Interior     68\n",
              "35                            36     30  ...             São Paulo   69,4\n",
              "36                            37     31  ...             São Paulo   57,7\n",
              "37                            38     33  ...             São Paulo   80,7\n",
              "38                            39     38  ...               Litoral   75,6\n",
              "39                            40     31  ...              Interior   53,8\n",
              "40                            41     38  ...              Interior   79,5\n",
              "41                            42     30  ...             São Paulo   80,1\n",
              "42                            43     38  ...             São Paulo   79,8\n",
              "43                            44     33  ...             São Paulo   49,2\n",
              "44                            45     37  ...              Interior     69\n",
              "45                            46     40  ...              Interior   79,4\n",
              "46                            47     38  ...             São Paulo     73\n",
              "47                            48     38  ...              Interior   67,7\n",
              "48                            49     32  ...             São Paulo   62,7\n",
              "49                            50     28  ...             São Paulo   81,2\n",
              "\n",
              "[50 rows x 10 columns]"
            ]
          },
          "metadata": {
            "tags": []
          },
          "execution_count": 151
        }
      ]
    },
    {
      "cell_type": "markdown",
      "metadata": {
        "id": "AKV2gd3WMySg",
        "colab_type": "text"
      },
      "source": [
        "Podemos ver que o arquivo foi lido perfeitamente.\n",
        "\n",
        "Mas temos algumas questões pra resolver antes de começar a analisar...\n",
        "\n",
        "PS: Os códigos da próxima seção devem ser executados antes de executar os posteriores."
      ]
    },
    {
      "cell_type": "markdown",
      "metadata": {
        "id": "jW1TL32uq-yD",
        "colab_type": "text"
      },
      "source": [
        "# **Pré-processamento e Análise inicial**"
      ]
    },
    {
      "cell_type": "markdown",
      "metadata": {
        "id": "58TtFeo6rThJ",
        "colab_type": "text"
      },
      "source": [
        "Primeiro, o python e o pandas não reconhecem números decimais com vírgula, então vamos substituir por ponto."
      ]
    },
    {
      "cell_type": "code",
      "metadata": {
        "id": "UpOLbzjBI3uO",
        "colab_type": "code",
        "colab": {}
      },
      "source": [
        "data.replace('\\,', '.', regex=True, inplace=True)\n",
        "# Trocando todas as vírgulas por ponto\n",
        "# Inplace como true serve para a ação ser salva no local original"
      ],
      "execution_count": 0,
      "outputs": []
    },
    {
      "cell_type": "code",
      "metadata": {
        "id": "IrAEYWLPI6x5",
        "colab_type": "code",
        "outputId": "7dd8ec64-d278-4403-b59b-61b6faf760fd",
        "colab": {
          "base_uri": "https://localhost:8080/",
          "height": 221
        }
      },
      "source": [
        "data.head()"
      ],
      "execution_count": 153,
      "outputs": [
        {
          "output_type": "execute_result",
          "data": {
            "text/html": [
              "<div>\n",
              "<style scoped>\n",
              "    .dataframe tbody tr th:only-of-type {\n",
              "        vertical-align: middle;\n",
              "    }\n",
              "\n",
              "    .dataframe tbody tr th {\n",
              "        vertical-align: top;\n",
              "    }\n",
              "\n",
              "    .dataframe thead th {\n",
              "        text-align: right;\n",
              "    }\n",
              "</style>\n",
              "<table border=\"1\" class=\"dataframe\">\n",
              "  <thead>\n",
              "    <tr style=\"text-align: right;\">\n",
              "      <th></th>\n",
              "      <th>Identificação do Funcionário</th>\n",
              "      <th>Idade</th>\n",
              "      <th>Salário (em salários mínimos)</th>\n",
              "      <th>Número de filhos</th>\n",
              "      <th>Altura</th>\n",
              "      <th>Gênero</th>\n",
              "      <th>Escolaridade</th>\n",
              "      <th>Horas trabalhadas na última semana</th>\n",
              "      <th>Região de Procedência</th>\n",
              "      <th>Peso</th>\n",
              "    </tr>\n",
              "  </thead>\n",
              "  <tbody>\n",
              "    <tr>\n",
              "      <th>0</th>\n",
              "      <td>1</td>\n",
              "      <td>36</td>\n",
              "      <td>4.9</td>\n",
              "      <td>1</td>\n",
              "      <td>1.73</td>\n",
              "      <td>Masculino</td>\n",
              "      <td>superior</td>\n",
              "      <td>43</td>\n",
              "      <td>São Paulo</td>\n",
              "      <td>69.4</td>\n",
              "    </tr>\n",
              "    <tr>\n",
              "      <th>1</th>\n",
              "      <td>2</td>\n",
              "      <td>27</td>\n",
              "      <td>6.4</td>\n",
              "      <td>1</td>\n",
              "      <td>1.73</td>\n",
              "      <td>Masculino</td>\n",
              "      <td>fundamental</td>\n",
              "      <td>41</td>\n",
              "      <td>São Paulo</td>\n",
              "      <td>90.9</td>\n",
              "    </tr>\n",
              "    <tr>\n",
              "      <th>2</th>\n",
              "      <td>3</td>\n",
              "      <td>26</td>\n",
              "      <td>6.1</td>\n",
              "      <td>2</td>\n",
              "      <td>1.73</td>\n",
              "      <td>Masculino</td>\n",
              "      <td>médio</td>\n",
              "      <td>44</td>\n",
              "      <td>Interior</td>\n",
              "      <td>78.3</td>\n",
              "    </tr>\n",
              "    <tr>\n",
              "      <th>3</th>\n",
              "      <td>4</td>\n",
              "      <td>37</td>\n",
              "      <td>4.8</td>\n",
              "      <td>1</td>\n",
              "      <td>1.65</td>\n",
              "      <td>Feminino</td>\n",
              "      <td>superior</td>\n",
              "      <td>40</td>\n",
              "      <td>Interior</td>\n",
              "      <td>66.7</td>\n",
              "    </tr>\n",
              "    <tr>\n",
              "      <th>4</th>\n",
              "      <td>5</td>\n",
              "      <td>35</td>\n",
              "      <td>8.2</td>\n",
              "      <td>2</td>\n",
              "      <td>1.52</td>\n",
              "      <td>Feminino</td>\n",
              "      <td>médio</td>\n",
              "      <td>39</td>\n",
              "      <td>São Paulo</td>\n",
              "      <td>65.8</td>\n",
              "    </tr>\n",
              "  </tbody>\n",
              "</table>\n",
              "</div>"
            ],
            "text/plain": [
              "   Identificação do Funcionário  Idade  ... Região de Procedência  Peso\n",
              "0                             1     36  ...             São Paulo  69.4\n",
              "1                             2     27  ...             São Paulo  90.9\n",
              "2                             3     26  ...              Interior  78.3\n",
              "3                             4     37  ...              Interior  66.7\n",
              "4                             5     35  ...             São Paulo  65.8\n",
              "\n",
              "[5 rows x 10 columns]"
            ]
          },
          "metadata": {
            "tags": []
          },
          "execution_count": 153
        }
      ]
    },
    {
      "cell_type": "markdown",
      "metadata": {
        "id": "M6cKGMU_N7Mt",
        "colab_type": "text"
      },
      "source": [
        "Agora o valor pode ser reconhecido como númerico, mas ainda temos que informar que eles são para o dataframe. Usamos o to_numeric nas colunas para isso."
      ]
    },
    {
      "cell_type": "code",
      "metadata": {
        "id": "rYEUASkoJZPX",
        "colab_type": "code",
        "outputId": "f678cfd2-932c-41bf-fb76-7855b6527690",
        "colab": {
          "base_uri": "https://localhost:8080/",
          "height": 204
        }
      },
      "source": [
        "data.dtypes"
      ],
      "execution_count": 154,
      "outputs": [
        {
          "output_type": "execute_result",
          "data": {
            "text/plain": [
              "Identificação do Funcionário           int64\n",
              "Idade                                  int64\n",
              "Salário (em salários mínimos)         object\n",
              "Número de filhos                       int64\n",
              "Altura                                object\n",
              "Gênero                                object\n",
              "Escolaridade                          object\n",
              "Horas trabalhadas na última semana     int64\n",
              "Região de Procedência                 object\n",
              "Peso                                  object\n",
              "dtype: object"
            ]
          },
          "metadata": {
            "tags": []
          },
          "execution_count": 154
        }
      ]
    },
    {
      "cell_type": "code",
      "metadata": {
        "id": "gcbztfD-JkiS",
        "colab_type": "code",
        "colab": {}
      },
      "source": [
        "data[\"Salário (em salários mínimos)\"] = pd.to_numeric(data[\"Salário (em salários mínimos)\"])\n",
        "data[\"Altura\"] = pd.to_numeric(data[\"Altura\"])\n",
        "data[\"Peso\"] = pd.to_numeric(data[\"Peso\"])"
      ],
      "execution_count": 0,
      "outputs": []
    },
    {
      "cell_type": "code",
      "metadata": {
        "id": "sdmPJ68DKHXP",
        "colab_type": "code",
        "outputId": "5130b45b-4cc6-4c38-80e8-aa7e01375868",
        "colab": {
          "base_uri": "https://localhost:8080/",
          "height": 204
        }
      },
      "source": [
        "data.dtypes"
      ],
      "execution_count": 156,
      "outputs": [
        {
          "output_type": "execute_result",
          "data": {
            "text/plain": [
              "Identificação do Funcionário            int64\n",
              "Idade                                   int64\n",
              "Salário (em salários mínimos)         float64\n",
              "Número de filhos                        int64\n",
              "Altura                                float64\n",
              "Gênero                                 object\n",
              "Escolaridade                           object\n",
              "Horas trabalhadas na última semana      int64\n",
              "Região de Procedência                  object\n",
              "Peso                                  float64\n",
              "dtype: object"
            ]
          },
          "metadata": {
            "tags": []
          },
          "execution_count": 156
        }
      ]
    },
    {
      "cell_type": "markdown",
      "metadata": {
        "id": "0mxOcapBOWgZ",
        "colab_type": "text"
      },
      "source": [
        "Pronto. Por último, vamos tirar a coluna de identificação já que ela não tem utilidade em uma análise. E renomear a coluna do salário, pra facilitar nas chamadas.\n",
        "\n",
        "E finalmente vamos encontrar algumas medidas dessas variáveis."
      ]
    },
    {
      "cell_type": "code",
      "metadata": {
        "id": "poY-Z_3GK_AJ",
        "colab_type": "code",
        "colab": {}
      },
      "source": [
        "data.drop(columns=['Identificação do Funcionário'], inplace=True)"
      ],
      "execution_count": 0,
      "outputs": []
    },
    {
      "cell_type": "code",
      "metadata": {
        "id": "-s2YddaaojL3",
        "colab_type": "code",
        "colab": {}
      },
      "source": [
        "data.rename(columns = {'Salário (em salários mínimos)':'Salário'}, inplace=True)"
      ],
      "execution_count": 0,
      "outputs": []
    },
    {
      "cell_type": "code",
      "metadata": {
        "id": "iIqMKZFoIdyk",
        "colab_type": "code",
        "outputId": "9d74bfbb-4a4c-4f94-9bf1-aa12cc0e36b7",
        "colab": {
          "base_uri": "https://localhost:8080/",
          "height": 297
        }
      },
      "source": [
        "data.describe()"
      ],
      "execution_count": 159,
      "outputs": [
        {
          "output_type": "execute_result",
          "data": {
            "text/html": [
              "<div>\n",
              "<style scoped>\n",
              "    .dataframe tbody tr th:only-of-type {\n",
              "        vertical-align: middle;\n",
              "    }\n",
              "\n",
              "    .dataframe tbody tr th {\n",
              "        vertical-align: top;\n",
              "    }\n",
              "\n",
              "    .dataframe thead th {\n",
              "        text-align: right;\n",
              "    }\n",
              "</style>\n",
              "<table border=\"1\" class=\"dataframe\">\n",
              "  <thead>\n",
              "    <tr style=\"text-align: right;\">\n",
              "      <th></th>\n",
              "      <th>Idade</th>\n",
              "      <th>Salário</th>\n",
              "      <th>Número de filhos</th>\n",
              "      <th>Altura</th>\n",
              "      <th>Horas trabalhadas na última semana</th>\n",
              "      <th>Peso</th>\n",
              "    </tr>\n",
              "  </thead>\n",
              "  <tbody>\n",
              "    <tr>\n",
              "      <th>count</th>\n",
              "      <td>50.000000</td>\n",
              "      <td>50.000000</td>\n",
              "      <td>50.000000</td>\n",
              "      <td>50.000000</td>\n",
              "      <td>50.0000</td>\n",
              "      <td>50.00000</td>\n",
              "    </tr>\n",
              "    <tr>\n",
              "      <th>mean</th>\n",
              "      <td>33.980000</td>\n",
              "      <td>5.374000</td>\n",
              "      <td>1.400000</td>\n",
              "      <td>1.711000</td>\n",
              "      <td>42.3400</td>\n",
              "      <td>71.29600</td>\n",
              "    </tr>\n",
              "    <tr>\n",
              "      <th>std</th>\n",
              "      <td>4.488034</td>\n",
              "      <td>1.851289</td>\n",
              "      <td>1.160577</td>\n",
              "      <td>0.086855</td>\n",
              "      <td>2.6466</td>\n",
              "      <td>11.12282</td>\n",
              "    </tr>\n",
              "    <tr>\n",
              "      <th>min</th>\n",
              "      <td>24.000000</td>\n",
              "      <td>1.600000</td>\n",
              "      <td>0.000000</td>\n",
              "      <td>1.520000</td>\n",
              "      <td>37.0000</td>\n",
              "      <td>42.60000</td>\n",
              "    </tr>\n",
              "    <tr>\n",
              "      <th>25%</th>\n",
              "      <td>31.000000</td>\n",
              "      <td>3.875000</td>\n",
              "      <td>1.000000</td>\n",
              "      <td>1.670000</td>\n",
              "      <td>40.0000</td>\n",
              "      <td>65.65000</td>\n",
              "    </tr>\n",
              "    <tr>\n",
              "      <th>50%</th>\n",
              "      <td>33.000000</td>\n",
              "      <td>5.500000</td>\n",
              "      <td>1.000000</td>\n",
              "      <td>1.710000</td>\n",
              "      <td>42.0000</td>\n",
              "      <td>69.75000</td>\n",
              "    </tr>\n",
              "    <tr>\n",
              "      <th>75%</th>\n",
              "      <td>38.000000</td>\n",
              "      <td>6.750000</td>\n",
              "      <td>2.000000</td>\n",
              "      <td>1.757500</td>\n",
              "      <td>44.0000</td>\n",
              "      <td>79.12500</td>\n",
              "    </tr>\n",
              "    <tr>\n",
              "      <th>max</th>\n",
              "      <td>43.000000</td>\n",
              "      <td>8.500000</td>\n",
              "      <td>5.000000</td>\n",
              "      <td>1.960000</td>\n",
              "      <td>51.0000</td>\n",
              "      <td>106.50000</td>\n",
              "    </tr>\n",
              "  </tbody>\n",
              "</table>\n",
              "</div>"
            ],
            "text/plain": [
              "           Idade    Salário  ...  Horas trabalhadas na última semana       Peso\n",
              "count  50.000000  50.000000  ...                             50.0000   50.00000\n",
              "mean   33.980000   5.374000  ...                             42.3400   71.29600\n",
              "std     4.488034   1.851289  ...                              2.6466   11.12282\n",
              "min    24.000000   1.600000  ...                             37.0000   42.60000\n",
              "25%    31.000000   3.875000  ...                             40.0000   65.65000\n",
              "50%    33.000000   5.500000  ...                             42.0000   69.75000\n",
              "75%    38.000000   6.750000  ...                             44.0000   79.12500\n",
              "max    43.000000   8.500000  ...                             51.0000  106.50000\n",
              "\n",
              "[8 rows x 6 columns]"
            ]
          },
          "metadata": {
            "tags": []
          },
          "execution_count": 159
        }
      ]
    },
    {
      "cell_type": "code",
      "metadata": {
        "id": "FoIrzW8QPXBQ",
        "colab_type": "code",
        "outputId": "edad94a5-663b-43b7-d65f-34cbc8279be1",
        "colab": {
          "base_uri": "https://localhost:8080/",
          "height": 173
        }
      },
      "source": [
        "data.describe(include = 'object')"
      ],
      "execution_count": 160,
      "outputs": [
        {
          "output_type": "execute_result",
          "data": {
            "text/html": [
              "<div>\n",
              "<style scoped>\n",
              "    .dataframe tbody tr th:only-of-type {\n",
              "        vertical-align: middle;\n",
              "    }\n",
              "\n",
              "    .dataframe tbody tr th {\n",
              "        vertical-align: top;\n",
              "    }\n",
              "\n",
              "    .dataframe thead th {\n",
              "        text-align: right;\n",
              "    }\n",
              "</style>\n",
              "<table border=\"1\" class=\"dataframe\">\n",
              "  <thead>\n",
              "    <tr style=\"text-align: right;\">\n",
              "      <th></th>\n",
              "      <th>Gênero</th>\n",
              "      <th>Escolaridade</th>\n",
              "      <th>Região de Procedência</th>\n",
              "    </tr>\n",
              "  </thead>\n",
              "  <tbody>\n",
              "    <tr>\n",
              "      <th>count</th>\n",
              "      <td>50</td>\n",
              "      <td>50</td>\n",
              "      <td>50</td>\n",
              "    </tr>\n",
              "    <tr>\n",
              "      <th>unique</th>\n",
              "      <td>2</td>\n",
              "      <td>3</td>\n",
              "      <td>3</td>\n",
              "    </tr>\n",
              "    <tr>\n",
              "      <th>top</th>\n",
              "      <td>Masculino</td>\n",
              "      <td>médio</td>\n",
              "      <td>São Paulo</td>\n",
              "    </tr>\n",
              "    <tr>\n",
              "      <th>freq</th>\n",
              "      <td>32</td>\n",
              "      <td>28</td>\n",
              "      <td>32</td>\n",
              "    </tr>\n",
              "  </tbody>\n",
              "</table>\n",
              "</div>"
            ],
            "text/plain": [
              "           Gênero Escolaridade Região de Procedência\n",
              "count          50           50                    50\n",
              "unique          2            3                     3\n",
              "top     Masculino        médio             São Paulo\n",
              "freq           32           28                    32"
            ]
          },
          "metadata": {
            "tags": []
          },
          "execution_count": 160
        }
      ]
    },
    {
      "cell_type": "markdown",
      "metadata": {
        "id": "Lhfy3gEOCPKt",
        "colab_type": "text"
      },
      "source": [
        "Como pedido no trabalho, três variáveis, uma de cada tipo, deveriam ser escolhidas para análise. Foram escolhidas: Idade, Salário e Escolaridade."
      ]
    },
    {
      "cell_type": "markdown",
      "metadata": {
        "id": "E6dDwCxRoJjM",
        "colab_type": "text"
      },
      "source": [
        "# **Idade**"
      ]
    },
    {
      "cell_type": "code",
      "metadata": {
        "id": "Mr9f7C15dp1Z",
        "colab_type": "code",
        "colab": {
          "base_uri": "https://localhost:8080/",
          "height": 68
        },
        "outputId": "7b405569-3d37-48d1-919b-04f201826d50"
      },
      "source": [
        "print(data['Idade'].count())\n",
        "print(data['Idade'].min())\n",
        "print(data['Idade'].max())"
      ],
      "execution_count": 161,
      "outputs": [
        {
          "output_type": "stream",
          "text": [
            "50\n",
            "24\n",
            "43\n"
          ],
          "name": "stdout"
        }
      ]
    },
    {
      "cell_type": "code",
      "metadata": {
        "id": "6YXpQRnOf_ql",
        "colab_type": "code",
        "colab": {
          "base_uri": "https://localhost:8080/",
          "height": 102
        },
        "outputId": "eac6b471-36c2-4c90-c80e-f50f1c3b2245"
      },
      "source": [
        "print(data['Idade'].mean()) # Média\n",
        "print(data['Idade'].median()) # Mediana\n",
        "print(data['Idade'].mode()) # Moda"
      ],
      "execution_count": 162,
      "outputs": [
        {
          "output_type": "stream",
          "text": [
            "33.98\n",
            "33.0\n",
            "0    32\n",
            "1    38\n",
            "dtype: int64\n"
          ],
          "name": "stdout"
        }
      ]
    },
    {
      "cell_type": "code",
      "metadata": {
        "id": "k5e56PJphT6t",
        "colab_type": "code",
        "colab": {
          "base_uri": "https://localhost:8080/",
          "height": 85
        },
        "outputId": "49aca8ea-894d-4cfc-a0a2-dca0eee7161e"
      },
      "source": [
        "print(data['Idade'].quantile([0.25,0.5,0.75])) # Primeiro, Segundo e Terceiro quartis"
      ],
      "execution_count": 163,
      "outputs": [
        {
          "output_type": "stream",
          "text": [
            "0.25    31.0\n",
            "0.50    33.0\n",
            "0.75    38.0\n",
            "Name: Idade, dtype: float64\n"
          ],
          "name": "stdout"
        }
      ]
    },
    {
      "cell_type": "markdown",
      "metadata": {
        "id": "6Xph0NJqiuAT",
        "colab_type": "text"
      },
      "source": [
        "Medidas de dispersão"
      ]
    },
    {
      "cell_type": "code",
      "metadata": {
        "id": "Akk9uC1tiv-U",
        "colab_type": "code",
        "colab": {
          "base_uri": "https://localhost:8080/",
          "height": 102
        },
        "outputId": "f9ad576c-e157-48eb-e492-094dc011f400"
      },
      "source": [
        "#Amplitude\n",
        "print(data['Idade'].max()-data['Idade'].min())\n",
        "#Intervalo interquartil\n",
        "print(data['Idade'].quantile(0.75)-data['Idade'].quantile(0.25))\n",
        "#Variância\n",
        "print(data['Idade'].var())\n",
        "#Desvio padrão\n",
        "print(data['Idade'].std())\n",
        "#Coeficiente de Variação\n",
        "print((data['Idade'].std()/data['Idade'].mean())*100)"
      ],
      "execution_count": 164,
      "outputs": [
        {
          "output_type": "stream",
          "text": [
            "19\n",
            "7.0\n",
            "20.142448979591837\n",
            "4.48803397709864\n",
            "13.207869267506297\n"
          ],
          "name": "stdout"
        }
      ]
    },
    {
      "cell_type": "code",
      "metadata": {
        "id": "1v9VBj0QeHk2",
        "colab_type": "code",
        "colab": {
          "base_uri": "https://localhost:8080/",
          "height": 638
        },
        "outputId": "349ca9e2-0451-46a3-bb17-3f6cc4736a8e"
      },
      "source": [
        "#Tabela de frequencia\n",
        "freq_table = pd.crosstab(index=data[\"Idade\"], columns=\"count\")\n",
        "fr = freq_table/freq_table.sum()\n",
        "freq_table = pd.concat([freq_table, fr], axis=1, join='inner')\n",
        "freq_table.columns = ['freq_abs', 'freq_rel']\n",
        "freq_table"
      ],
      "execution_count": 165,
      "outputs": [
        {
          "output_type": "execute_result",
          "data": {
            "text/html": [
              "<div>\n",
              "<style scoped>\n",
              "    .dataframe tbody tr th:only-of-type {\n",
              "        vertical-align: middle;\n",
              "    }\n",
              "\n",
              "    .dataframe tbody tr th {\n",
              "        vertical-align: top;\n",
              "    }\n",
              "\n",
              "    .dataframe thead th {\n",
              "        text-align: right;\n",
              "    }\n",
              "</style>\n",
              "<table border=\"1\" class=\"dataframe\">\n",
              "  <thead>\n",
              "    <tr style=\"text-align: right;\">\n",
              "      <th></th>\n",
              "      <th>freq_abs</th>\n",
              "      <th>freq_rel</th>\n",
              "    </tr>\n",
              "    <tr>\n",
              "      <th>Idade</th>\n",
              "      <th></th>\n",
              "      <th></th>\n",
              "    </tr>\n",
              "  </thead>\n",
              "  <tbody>\n",
              "    <tr>\n",
              "      <th>24</th>\n",
              "      <td>1</td>\n",
              "      <td>0.02</td>\n",
              "    </tr>\n",
              "    <tr>\n",
              "      <th>25</th>\n",
              "      <td>1</td>\n",
              "      <td>0.02</td>\n",
              "    </tr>\n",
              "    <tr>\n",
              "      <th>26</th>\n",
              "      <td>1</td>\n",
              "      <td>0.02</td>\n",
              "    </tr>\n",
              "    <tr>\n",
              "      <th>27</th>\n",
              "      <td>1</td>\n",
              "      <td>0.02</td>\n",
              "    </tr>\n",
              "    <tr>\n",
              "      <th>28</th>\n",
              "      <td>1</td>\n",
              "      <td>0.02</td>\n",
              "    </tr>\n",
              "    <tr>\n",
              "      <th>29</th>\n",
              "      <td>3</td>\n",
              "      <td>0.06</td>\n",
              "    </tr>\n",
              "    <tr>\n",
              "      <th>30</th>\n",
              "      <td>2</td>\n",
              "      <td>0.04</td>\n",
              "    </tr>\n",
              "    <tr>\n",
              "      <th>31</th>\n",
              "      <td>5</td>\n",
              "      <td>0.10</td>\n",
              "    </tr>\n",
              "    <tr>\n",
              "      <th>32</th>\n",
              "      <td>7</td>\n",
              "      <td>0.14</td>\n",
              "    </tr>\n",
              "    <tr>\n",
              "      <th>33</th>\n",
              "      <td>4</td>\n",
              "      <td>0.08</td>\n",
              "    </tr>\n",
              "    <tr>\n",
              "      <th>35</th>\n",
              "      <td>2</td>\n",
              "      <td>0.04</td>\n",
              "    </tr>\n",
              "    <tr>\n",
              "      <th>36</th>\n",
              "      <td>5</td>\n",
              "      <td>0.10</td>\n",
              "    </tr>\n",
              "    <tr>\n",
              "      <th>37</th>\n",
              "      <td>3</td>\n",
              "      <td>0.06</td>\n",
              "    </tr>\n",
              "    <tr>\n",
              "      <th>38</th>\n",
              "      <td>7</td>\n",
              "      <td>0.14</td>\n",
              "    </tr>\n",
              "    <tr>\n",
              "      <th>39</th>\n",
              "      <td>1</td>\n",
              "      <td>0.02</td>\n",
              "    </tr>\n",
              "    <tr>\n",
              "      <th>40</th>\n",
              "      <td>3</td>\n",
              "      <td>0.06</td>\n",
              "    </tr>\n",
              "    <tr>\n",
              "      <th>41</th>\n",
              "      <td>2</td>\n",
              "      <td>0.04</td>\n",
              "    </tr>\n",
              "    <tr>\n",
              "      <th>43</th>\n",
              "      <td>1</td>\n",
              "      <td>0.02</td>\n",
              "    </tr>\n",
              "  </tbody>\n",
              "</table>\n",
              "</div>"
            ],
            "text/plain": [
              "       freq_abs  freq_rel\n",
              "Idade                    \n",
              "24            1      0.02\n",
              "25            1      0.02\n",
              "26            1      0.02\n",
              "27            1      0.02\n",
              "28            1      0.02\n",
              "29            3      0.06\n",
              "30            2      0.04\n",
              "31            5      0.10\n",
              "32            7      0.14\n",
              "33            4      0.08\n",
              "35            2      0.04\n",
              "36            5      0.10\n",
              "37            3      0.06\n",
              "38            7      0.14\n",
              "39            1      0.02\n",
              "40            3      0.06\n",
              "41            2      0.04\n",
              "43            1      0.02"
            ]
          },
          "metadata": {
            "tags": []
          },
          "execution_count": 165
        }
      ]
    },
    {
      "cell_type": "code",
      "metadata": {
        "id": "sbfA014ZxyY8",
        "colab_type": "code",
        "colab": {}
      },
      "source": [
        "a = data['Idade'].value_counts(sort=False)"
      ],
      "execution_count": 0,
      "outputs": []
    },
    {
      "cell_type": "code",
      "metadata": {
        "id": "CHOvFt9q0jUW",
        "colab_type": "code",
        "colab": {
          "base_uri": "https://localhost:8080/",
          "height": 372
        },
        "outputId": "23b59e0b-75c2-42f6-8170-7e527fdf4b8b"
      },
      "source": [
        "# Plotando o gráfico de barras Idade x Número de funcionários\n",
        "ax = a.plot(kind='bar', figsize=(15,5), title=\"Distribuição por Idade dos funcionários da empresa X\", zorder=3)\n",
        "ax.grid(axis='y', alpha=0.5, zorder=0)\n",
        "ax.title.set_size(15)\n",
        "ax.set_xlabel(\"Idade\")\n",
        "ax.set_ylabel(\"Número de funcionários\")"
      ],
      "execution_count": 167,
      "outputs": [
        {
          "output_type": "execute_result",
          "data": {
            "text/plain": [
              "Text(0, 0.5, 'Número de funcionários')"
            ]
          },
          "metadata": {
            "tags": []
          },
          "execution_count": 167
        },
        {
          "output_type": "display_data",
          "data": {
            "image/png": "[encoded data removed]",
            "text/plain": [
              "<Figure size 1080x360 with 1 Axes>"
            ]
          },
          "metadata": {
            "tags": [],
            "needs_background": "light"
          }
        }
      ]
    },
    {
      "cell_type": "code",
      "metadata": {
        "id": "4XPUJmri5kbT",
        "colab_type": "code",
        "colab": {
          "base_uri": "https://localhost:8080/",
          "height": 282
        },
        "outputId": "45a21e1a-cb07-4cb2-8d0b-e6f7b82068fa"
      },
      "source": [
        "data.boxplot(column='Idade', grid=False)"
      ],
      "execution_count": 168,
      "outputs": [
        {
          "output_type": "execute_result",
          "data": {
            "text/plain": [
              "<matplotlib.axes._subplots.AxesSubplot at 0x7fcda4c66d68>"
            ]
          },
          "metadata": {
            "tags": []
          },
          "execution_count": 168
        },
        {
          "output_type": "display_data",
          "data": {
            "image/png": "[encoded data removed]",
            "text/plain": [
              "<Figure size 432x288 with 1 Axes>"
            ]
          },
          "metadata": {
            "tags": [],
            "needs_background": "light"
          }
        }
      ]
    },
    {
      "cell_type": "markdown",
      "metadata": {
        "colab_type": "text",
        "id": "fmQtoluDoVNO"
      },
      "source": [
        "# **Salário**"
      ]
    },
    {
      "cell_type": "code",
      "metadata": {
        "colab_type": "code",
        "outputId": "70bce7c9-e89d-4af7-94e3-d12878204549",
        "id": "JeCVXENuoVNQ",
        "colab": {
          "base_uri": "https://localhost:8080/",
          "height": 68
        }
      },
      "source": [
        "print(data['Salário'].count())\n",
        "print(data['Salário'].min())\n",
        "print(data['Salário'].max())"
      ],
      "execution_count": 169,
      "outputs": [
        {
          "output_type": "stream",
          "text": [
            "50\n",
            "1.6\n",
            "8.5\n"
          ],
          "name": "stdout"
        }
      ]
    },
    {
      "cell_type": "code",
      "metadata": {
        "colab_type": "code",
        "outputId": "fc17755a-cfdc-4581-b1ff-13d01931db7e",
        "id": "Wpr4CEgdoVNZ",
        "colab": {
          "base_uri": "https://localhost:8080/",
          "height": 85
        }
      },
      "source": [
        "print(data['Salário'].mean()) # Média\n",
        "print(data['Salário'].median()) # Mediana\n",
        "print(data['Salário'].mode()) # Moda"
      ],
      "execution_count": 170,
      "outputs": [
        {
          "output_type": "stream",
          "text": [
            "5.3740000000000006\n",
            "5.5\n",
            "0    5.5\n",
            "dtype: float64\n"
          ],
          "name": "stdout"
        }
      ]
    },
    {
      "cell_type": "code",
      "metadata": {
        "colab_type": "code",
        "outputId": "dbf51511-bd13-4f53-8f9c-cb906100ae35",
        "id": "FGqavL0GoVNe",
        "colab": {
          "base_uri": "https://localhost:8080/",
          "height": 85
        }
      },
      "source": [
        "print(data['Salário'].quantile([0.25,0.5,0.75])) # Primeiro, Segundo e Terceiro quartis"
      ],
      "execution_count": 171,
      "outputs": [
        {
          "output_type": "stream",
          "text": [
            "0.25    3.875\n",
            "0.50    5.500\n",
            "0.75    6.750\n",
            "Name: Salário, dtype: float64\n"
          ],
          "name": "stdout"
        }
      ]
    },
    {
      "cell_type": "markdown",
      "metadata": {
        "colab_type": "text",
        "id": "TLEHCyUmoVNl"
      },
      "source": [
        "Medidas de dispersão"
      ]
    },
    {
      "cell_type": "code",
      "metadata": {
        "colab_type": "code",
        "outputId": "9f65d228-3ba5-4644-bfb0-a6012366e8d5",
        "id": "9d9UalvMoVNm",
        "colab": {
          "base_uri": "https://localhost:8080/",
          "height": 102
        }
      },
      "source": [
        "#Amplitude\n",
        "print(data['Salário'].max()-data['Salário'].min())\n",
        "#Intervalo interquartil\n",
        "print(data['Salário'].quantile(0.75)-data['Salário'].quantile(0.25))\n",
        "#Variância\n",
        "print(data['Salário'].var())\n",
        "#Desvio padrão\n",
        "print(data['Salário'].std())\n",
        "#Coeficiente de Variação\n",
        "print((data['Salário'].std()/data['Salário'].mean())*100)"
      ],
      "execution_count": 172,
      "outputs": [
        {
          "output_type": "stream",
          "text": [
            "6.9\n",
            "2.8750000000000004\n",
            "3.4272693877551004\n",
            "1.8512885749539698\n",
            "34.44898725258596\n"
          ],
          "name": "stdout"
        }
      ]
    },
    {
      "cell_type": "code",
      "metadata": {
        "colab_type": "code",
        "id": "X_7pNI4GoVNu",
        "colab": {
          "base_uri": "https://localhost:8080/",
          "height": 34
        },
        "outputId": "7d45d707-70dc-4637-ecf9-48914412a84b"
      },
      "source": [
        "# Construindo tabela de frequência\n",
        "k = 8\n",
        "h = (data['Salário'].max()-data['Salário'].min())/k # Amplitude da classe\n",
        "h"
      ],
      "execution_count": 173,
      "outputs": [
        {
          "output_type": "execute_result",
          "data": {
            "text/plain": [
              "0.8625"
            ]
          },
          "metadata": {
            "tags": []
          },
          "execution_count": 173
        }
      ]
    },
    {
      "cell_type": "code",
      "metadata": {
        "id": "2-piiEwk-nYW",
        "colab_type": "code",
        "colab": {}
      },
      "source": [
        "data['Intervalo Salário'] = pd.cut(data['Salário'].sort_values(), k)"
      ],
      "execution_count": 0,
      "outputs": []
    },
    {
      "cell_type": "code",
      "metadata": {
        "id": "4cu905P3A8Xh",
        "colab_type": "code",
        "colab": {
          "base_uri": "https://localhost:8080/",
          "height": 170
        },
        "outputId": "ea43cd18-9993-4fbf-97c1-d419d7de8f6d"
      },
      "source": [
        "b = data['Intervalo Salário'].value_counts(sort=False)\n",
        "b"
      ],
      "execution_count": 175,
      "outputs": [
        {
          "output_type": "execute_result",
          "data": {
            "text/plain": [
              "(1.593, 2.463]    3\n",
              "(2.463, 3.325]    6\n",
              "(3.325, 4.188]    5\n",
              "(4.188, 5.05]     6\n",
              "(5.05, 5.912]     8\n",
              "(5.912, 6.775]    9\n",
              "(6.775, 7.638]    6\n",
              "(7.638, 8.5]      7\n",
              "Name: Intervalo Salário, dtype: int64"
            ]
          },
          "metadata": {
            "tags": []
          },
          "execution_count": 175
        }
      ]
    },
    {
      "cell_type": "code",
      "metadata": {
        "id": "EN1j7LBgG_Bc",
        "colab_type": "code",
        "colab": {
          "base_uri": "https://localhost:8080/",
          "height": 315
        },
        "outputId": "51361fd1-ba9f-464c-de4b-704b50b9f126"
      },
      "source": [
        "new_ax2 = data['Salário'].plot.hist(bins=8, alpha=0.5, histtype='bar', ec='black', \n",
        "                                xticks=interval, title='Histograma inicial do Salário dos funcionários da empresa X')\n",
        "new_ax2.title.set_size(15)\n",
        "new_ax2.set_xlabel(\"Salário (em salários mínimos)\")"
      ],
      "execution_count": 176,
      "outputs": [
        {
          "output_type": "execute_result",
          "data": {
            "text/plain": [
              "Text(0.5, 0, 'Salário (em salários mínimos)')"
            ]
          },
          "metadata": {
            "tags": []
          },
          "execution_count": 176
        },
        {
          "output_type": "display_data",
          "data": {
            "image/png": "[encoded data removed]",
            "text/plain": [
              "<Figure size 432x288 with 1 Axes>"
            ]
          },
          "metadata": {
            "tags": [],
            "needs_background": "light"
          }
        }
      ]
    },
    {
      "cell_type": "markdown",
      "metadata": {
        "id": "vI2XNDN5Lww4",
        "colab_type": "text"
      },
      "source": [
        "Arredondamos por conveniência LI1 para 1 e h para 1"
      ]
    },
    {
      "cell_type": "code",
      "metadata": {
        "id": "b9qpSLZwBiKO",
        "colab_type": "code",
        "colab": {
          "base_uri": "https://localhost:8080/",
          "height": 315
        },
        "outputId": "3eceb06c-ce59-42f8-e0f7-84993cf26fc7"
      },
      "source": [
        "interval = [1,2,3,4,5,6,7,8,9]\n",
        "ax2 = data['Salário'].plot.hist(bins=interval, alpha=0.5, histtype='bar', ec='black', \n",
        "                                xticks=interval, title='Histograma do Salário dos funcionários da empresa X')\n",
        "ax2.title.set_size(15)\n",
        "ax2.set_xlabel(\"Salário (em salários mínimos)\")"
      ],
      "execution_count": 177,
      "outputs": [
        {
          "output_type": "execute_result",
          "data": {
            "text/plain": [
              "Text(0.5, 0, 'Salário (em salários mínimos)')"
            ]
          },
          "metadata": {
            "tags": []
          },
          "execution_count": 177
        },
        {
          "output_type": "display_data",
          "data": {
            "image/png": "[encoded data removed]",
            "text/plain": [
              "<Figure size 432x288 with 1 Axes>"
            ]
          },
          "metadata": {
            "tags": [],
            "needs_background": "light"
          }
        }
      ]
    },
    {
      "cell_type": "code",
      "metadata": {
        "id": "3E5zi_Z2SIkT",
        "colab_type": "code",
        "colab": {
          "base_uri": "https://localhost:8080/",
          "height": 297
        },
        "outputId": "dec87b9e-8f2e-4128-d81a-2061c5675297"
      },
      "source": [
        "#Tabela de frequencia\n",
        "freq_table2 = pd.cut(data['Salário'].sort_values(), interval, right=False).value_counts(sort=False)\n",
        "fr2 = freq_table2/freq_table2.sum()\n",
        "freq_table2 = pd.concat([freq_table2, fr2], axis=1, join='inner')\n",
        "freq_table2.columns = ['freq_abs', 'freq_rel']\n",
        "freq_table2"
      ],
      "execution_count": 179,
      "outputs": [
        {
          "output_type": "execute_result",
          "data": {
            "text/html": [
              "<div>\n",
              "<style scoped>\n",
              "    .dataframe tbody tr th:only-of-type {\n",
              "        vertical-align: middle;\n",
              "    }\n",
              "\n",
              "    .dataframe tbody tr th {\n",
              "        vertical-align: top;\n",
              "    }\n",
              "\n",
              "    .dataframe thead th {\n",
              "        text-align: right;\n",
              "    }\n",
              "</style>\n",
              "<table border=\"1\" class=\"dataframe\">\n",
              "  <thead>\n",
              "    <tr style=\"text-align: right;\">\n",
              "      <th></th>\n",
              "      <th>freq_abs</th>\n",
              "      <th>freq_rel</th>\n",
              "    </tr>\n",
              "  </thead>\n",
              "  <tbody>\n",
              "    <tr>\n",
              "      <th>[1, 2)</th>\n",
              "      <td>2</td>\n",
              "      <td>0.04</td>\n",
              "    </tr>\n",
              "    <tr>\n",
              "      <th>[2, 3)</th>\n",
              "      <td>4</td>\n",
              "      <td>0.08</td>\n",
              "    </tr>\n",
              "    <tr>\n",
              "      <th>[3, 4)</th>\n",
              "      <td>7</td>\n",
              "      <td>0.14</td>\n",
              "    </tr>\n",
              "    <tr>\n",
              "      <th>[4, 5)</th>\n",
              "      <td>7</td>\n",
              "      <td>0.14</td>\n",
              "    </tr>\n",
              "    <tr>\n",
              "      <th>[5, 6)</th>\n",
              "      <td>8</td>\n",
              "      <td>0.16</td>\n",
              "    </tr>\n",
              "    <tr>\n",
              "      <th>[6, 7)</th>\n",
              "      <td>12</td>\n",
              "      <td>0.24</td>\n",
              "    </tr>\n",
              "    <tr>\n",
              "      <th>[7, 8)</th>\n",
              "      <td>6</td>\n",
              "      <td>0.12</td>\n",
              "    </tr>\n",
              "    <tr>\n",
              "      <th>[8, 9)</th>\n",
              "      <td>4</td>\n",
              "      <td>0.08</td>\n",
              "    </tr>\n",
              "  </tbody>\n",
              "</table>\n",
              "</div>"
            ],
            "text/plain": [
              "        freq_abs  freq_rel\n",
              "[1, 2)         2      0.04\n",
              "[2, 3)         4      0.08\n",
              "[3, 4)         7      0.14\n",
              "[4, 5)         7      0.14\n",
              "[5, 6)         8      0.16\n",
              "[6, 7)        12      0.24\n",
              "[7, 8)         6      0.12\n",
              "[8, 9)         4      0.08"
            ]
          },
          "metadata": {
            "tags": []
          },
          "execution_count": 179
        }
      ]
    },
    {
      "cell_type": "code",
      "metadata": {
        "id": "gsB7o4eDV4g5",
        "colab_type": "code",
        "colab": {
          "base_uri": "https://localhost:8080/",
          "height": 282
        },
        "outputId": "fdb6beb8-8c28-43c5-d115-c294c6fa0f59"
      },
      "source": [
        "data.boxplot(column='Salário', grid=False)"
      ],
      "execution_count": 180,
      "outputs": [
        {
          "output_type": "execute_result",
          "data": {
            "text/plain": [
              "<matplotlib.axes._subplots.AxesSubplot at 0x7fcda4b016a0>"
            ]
          },
          "metadata": {
            "tags": []
          },
          "execution_count": 180
        },
        {
          "output_type": "display_data",
          "data": {
            "image/png": "[encoded data removed]",
            "text/plain": [
              "<Figure size 432x288 with 1 Axes>"
            ]
          },
          "metadata": {
            "tags": [],
            "needs_background": "light"
          }
        }
      ]
    },
    {
      "cell_type": "markdown",
      "metadata": {
        "id": "ZPaTZf6mn5nx",
        "colab_type": "text"
      },
      "source": [
        "# **Escolaridade**"
      ]
    },
    {
      "cell_type": "code",
      "metadata": {
        "id": "XfOstzpmoFjX",
        "colab_type": "code",
        "colab": {
          "base_uri": "https://localhost:8080/",
          "height": 85
        },
        "outputId": "4db72a21-fe5f-40a3-df84-28be24fb6e76"
      },
      "source": [
        "c = data['Escolaridade'].value_counts()\n",
        "c"
      ],
      "execution_count": 181,
      "outputs": [
        {
          "output_type": "execute_result",
          "data": {
            "text/plain": [
              "médio          28\n",
              "superior       19\n",
              "fundamental     3\n",
              "Name: Escolaridade, dtype: int64"
            ]
          },
          "metadata": {
            "tags": []
          },
          "execution_count": 181
        }
      ]
    },
    {
      "cell_type": "code",
      "metadata": {
        "id": "YjRGndad4TSe",
        "colab_type": "code",
        "colab": {
          "base_uri": "https://localhost:8080/",
          "height": 85
        },
        "outputId": "82d1f7c3-b40d-4d1f-cb6a-671e77db0020"
      },
      "source": [
        "c/sum(c)"
      ],
      "execution_count": 182,
      "outputs": [
        {
          "output_type": "execute_result",
          "data": {
            "text/plain": [
              "médio          0.56\n",
              "superior       0.38\n",
              "fundamental    0.06\n",
              "Name: Escolaridade, dtype: float64"
            ]
          },
          "metadata": {
            "tags": []
          },
          "execution_count": 182
        }
      ]
    },
    {
      "cell_type": "code",
      "metadata": {
        "id": "OOLELBE3uMX5",
        "colab_type": "code",
        "colab": {
          "base_uri": "https://localhost:8080/",
          "height": 321
        },
        "outputId": "593b8903-5803-407c-f7a5-e18bc8fca46e"
      },
      "source": [
        "ax3 = c.plot(kind='pie', figsize=(5,5), title=\"Gráfico de setores\", autopct = \"%.2f%%\", colors = ['blue', 'green', 'yellow'])\n",
        "ax3.title.set_size(15)"
      ],
      "execution_count": 183,
      "outputs": [
        {
          "output_type": "display_data",
          "data": {
            "image/png": "[encoded data removed]",
            "text/plain": [
              "<Figure size 360x360 with 1 Axes>"
            ]
          },
          "metadata": {
            "tags": []
          }
        }
      ]
    },
    {
      "cell_type": "markdown",
      "metadata": {
        "id": "rOpLwFU_vD4q",
        "colab_type": "text"
      },
      "source": [
        "# **Análise Bivariada (Idade e Salário)**"
      ]
    },
    {
      "cell_type": "code",
      "metadata": {
        "id": "nTqtn1hZvK-9",
        "colab_type": "code",
        "colab": {
          "base_uri": "https://localhost:8080/",
          "height": 204
        },
        "outputId": "fc7a32f9-e178-43d5-fb97-60d44d7231f1"
      },
      "source": [
        "data_biv = data[['Idade', 'Salário']]\n",
        "data_biv.head()"
      ],
      "execution_count": 184,
      "outputs": [
        {
          "output_type": "execute_result",
          "data": {
            "text/html": [
              "<div>\n",
              "<style scoped>\n",
              "    .dataframe tbody tr th:only-of-type {\n",
              "        vertical-align: middle;\n",
              "    }\n",
              "\n",
              "    .dataframe tbody tr th {\n",
              "        vertical-align: top;\n",
              "    }\n",
              "\n",
              "    .dataframe thead th {\n",
              "        text-align: right;\n",
              "    }\n",
              "</style>\n",
              "<table border=\"1\" class=\"dataframe\">\n",
              "  <thead>\n",
              "    <tr style=\"text-align: right;\">\n",
              "      <th></th>\n",
              "      <th>Idade</th>\n",
              "      <th>Salário</th>\n",
              "    </tr>\n",
              "  </thead>\n",
              "  <tbody>\n",
              "    <tr>\n",
              "      <th>0</th>\n",
              "      <td>36</td>\n",
              "      <td>4.9</td>\n",
              "    </tr>\n",
              "    <tr>\n",
              "      <th>1</th>\n",
              "      <td>27</td>\n",
              "      <td>6.4</td>\n",
              "    </tr>\n",
              "    <tr>\n",
              "      <th>2</th>\n",
              "      <td>26</td>\n",
              "      <td>6.1</td>\n",
              "    </tr>\n",
              "    <tr>\n",
              "      <th>3</th>\n",
              "      <td>37</td>\n",
              "      <td>4.8</td>\n",
              "    </tr>\n",
              "    <tr>\n",
              "      <th>4</th>\n",
              "      <td>35</td>\n",
              "      <td>8.2</td>\n",
              "    </tr>\n",
              "  </tbody>\n",
              "</table>\n",
              "</div>"
            ],
            "text/plain": [
              "   Idade  Salário\n",
              "0     36      4.9\n",
              "1     27      6.4\n",
              "2     26      6.1\n",
              "3     37      4.8\n",
              "4     35      8.2"
            ]
          },
          "metadata": {
            "tags": []
          },
          "execution_count": 184
        }
      ]
    },
    {
      "cell_type": "code",
      "metadata": {
        "id": "KFO0v4YXvmmL",
        "colab_type": "code",
        "colab": {
          "base_uri": "https://localhost:8080/",
          "height": 128
        },
        "outputId": "17464b12-da7a-44d6-e877-80c4df813185"
      },
      "source": [
        "# Matriz de correlação de Pearson\n",
        "print('Matriz de correlação:')\n",
        "data_biv.corr(method='pearson')"
      ],
      "execution_count": 185,
      "outputs": [
        {
          "output_type": "stream",
          "text": [
            "Matriz de correlação:\n"
          ],
          "name": "stdout"
        },
        {
          "output_type": "execute_result",
          "data": {
            "text/html": [
              "<div>\n",
              "<style scoped>\n",
              "    .dataframe tbody tr th:only-of-type {\n",
              "        vertical-align: middle;\n",
              "    }\n",
              "\n",
              "    .dataframe tbody tr th {\n",
              "        vertical-align: top;\n",
              "    }\n",
              "\n",
              "    .dataframe thead th {\n",
              "        text-align: right;\n",
              "    }\n",
              "</style>\n",
              "<table border=\"1\" class=\"dataframe\">\n",
              "  <thead>\n",
              "    <tr style=\"text-align: right;\">\n",
              "      <th></th>\n",
              "      <th>Idade</th>\n",
              "      <th>Salário</th>\n",
              "    </tr>\n",
              "  </thead>\n",
              "  <tbody>\n",
              "    <tr>\n",
              "      <th>Idade</th>\n",
              "      <td>1.00000</td>\n",
              "      <td>-0.09463</td>\n",
              "    </tr>\n",
              "    <tr>\n",
              "      <th>Salário</th>\n",
              "      <td>-0.09463</td>\n",
              "      <td>1.00000</td>\n",
              "    </tr>\n",
              "  </tbody>\n",
              "</table>\n",
              "</div>"
            ],
            "text/plain": [
              "           Idade  Salário\n",
              "Idade    1.00000 -0.09463\n",
              "Salário -0.09463  1.00000"
            ]
          },
          "metadata": {
            "tags": []
          },
          "execution_count": 185
        }
      ]
    },
    {
      "cell_type": "code",
      "metadata": {
        "id": "UvMLfYG9wGQL",
        "colab_type": "code",
        "colab": {
          "base_uri": "https://localhost:8080/",
          "height": 128
        },
        "outputId": "19426a8c-6e5e-49a0-955d-26f794e6a31c"
      },
      "source": [
        "# Matriz de covariância\n",
        "print('Matriz de covariância:')\n",
        "data_biv.cov()"
      ],
      "execution_count": 186,
      "outputs": [
        {
          "output_type": "stream",
          "text": [
            "Matriz de covariância:\n"
          ],
          "name": "stdout"
        },
        {
          "output_type": "execute_result",
          "data": {
            "text/html": [
              "<div>\n",
              "<style scoped>\n",
              "    .dataframe tbody tr th:only-of-type {\n",
              "        vertical-align: middle;\n",
              "    }\n",
              "\n",
              "    .dataframe tbody tr th {\n",
              "        vertical-align: top;\n",
              "    }\n",
              "\n",
              "    .dataframe thead th {\n",
              "        text-align: right;\n",
              "    }\n",
              "</style>\n",
              "<table border=\"1\" class=\"dataframe\">\n",
              "  <thead>\n",
              "    <tr style=\"text-align: right;\">\n",
              "      <th></th>\n",
              "      <th>Idade</th>\n",
              "      <th>Salário</th>\n",
              "    </tr>\n",
              "  </thead>\n",
              "  <tbody>\n",
              "    <tr>\n",
              "      <th>Idade</th>\n",
              "      <td>20.142449</td>\n",
              "      <td>-0.786245</td>\n",
              "    </tr>\n",
              "    <tr>\n",
              "      <th>Salário</th>\n",
              "      <td>-0.786245</td>\n",
              "      <td>3.427269</td>\n",
              "    </tr>\n",
              "  </tbody>\n",
              "</table>\n",
              "</div>"
            ],
            "text/plain": [
              "             Idade   Salário\n",
              "Idade    20.142449 -0.786245\n",
              "Salário  -0.786245  3.427269"
            ]
          },
          "metadata": {
            "tags": []
          },
          "execution_count": 186
        }
      ]
    },
    {
      "cell_type": "code",
      "metadata": {
        "id": "xTLDMBKOu4q7",
        "colab_type": "code",
        "colab": {
          "base_uri": "https://localhost:8080/",
          "height": 298
        },
        "outputId": "3fda8b9e-12f8-4aaf-dffd-0ae9ebb25fb8"
      },
      "source": [
        "ax4 = data_biv.plot.scatter(x='Idade', y='Salário', title='Associação entre Idade e Salário')\n",
        "ax4.title.set_size(15)"
      ],
      "execution_count": 187,
      "outputs": [
        {
          "output_type": "display_data",
          "data": {
            "image/png": "[encoded data removed]",
            "text/plain": [
              "<Figure size 432x288 with 1 Axes>"
            ]
          },
          "metadata": {
            "tags": [],
            "needs_background": "light"
          }
        }
      ]
    }
  ]
}